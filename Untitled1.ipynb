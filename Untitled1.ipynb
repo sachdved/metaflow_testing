{
 "cells": [
  {
   "cell_type": "code",
   "execution_count": 9,
   "id": "c6a93707-dcdb-43b4-880d-7ff1ab7e280d",
   "metadata": {},
   "outputs": [],
   "source": [
    "import metaflow\n",
    "import torch\n",
    "import numpy as np\n",
    "import scipy as sp\n",
    "import sklearn\n",
    "import pandas as pd"
   ]
  },
  {
   "cell_type": "code",
   "execution_count": 2,
   "id": "7e0978a8-1446-4208-9c5a-35b2860707af",
   "metadata": {},
   "outputs": [],
   "source": [
    "import toml"
   ]
  },
  {
   "cell_type": "code",
   "execution_count": 39,
   "id": "88c24cef-a20b-4d2f-8b42-30867e9d24fa",
   "metadata": {},
   "outputs": [],
   "source": [
    "config_file = toml.load('./config.toml')"
   ]
  },
  {
   "cell_type": "code",
   "execution_count": 42,
   "id": "847787d9-7b3b-427b-9b70-38c33ad2e6ac",
   "metadata": {},
   "outputs": [
    {
     "data": {
      "text/plain": [
       "dict_keys(['layer_1', 'activation_1', 'layer_2', 'activation_2', 'layer_3', 'activation_3', 'layer_4', 'activation_4', 'optimizer'])"
      ]
     },
     "execution_count": 42,
     "metadata": {},
     "output_type": "execute_result"
    }
   ],
   "source": [
    "config_file['model'].keys()"
   ]
  },
  {
   "cell_type": "code",
   "execution_count": 36,
   "id": "2cabe96e-dad7-425f-850b-52845e69b36c",
   "metadata": {},
   "outputs": [],
   "source": [
    "data = pd.read_csv(config_file['data']['train_path'])"
   ]
  },
  {
   "cell_type": "code",
   "execution_count": 37,
   "id": "b4d806fd-47d6-47ef-b912-384394048278",
   "metadata": {},
   "outputs": [
    {
     "data": {
      "text/plain": [
       "(60000, 785)"
      ]
     },
     "execution_count": 37,
     "metadata": {},
     "output_type": "execute_result"
    }
   ],
   "source": [
    "data.shape"
   ]
  },
  {
   "cell_type": "code",
   "execution_count": 43,
   "id": "3d0c39b3-0c39-46c5-8c84-2d7cee1910bc",
   "metadata": {},
   "outputs": [],
   "source": [
    "class MNIST_dataset(torch.utils.data.Dataset):\n",
    "    def __init__(\n",
    "        self,\n",
    "        input_data\n",
    "    ):\n",
    "        self.data = input_data\n",
    "        \n",
    "    def __len__(\n",
    "        self\n",
    "    ):\n",
    "        return self.data.shape[0]\n",
    "\n",
    "    def __getitem__(\n",
    "        self,\n",
    "        index\n",
    "    ):\n",
    "        label = torch.zeros(10)\n",
    "        label[self.data.iloc[index, 0]] = 1.\n",
    "        image = self.data.iloc[index, 1:]\n",
    "        return {\n",
    "            'image' : image,\n",
    "            'label' : label\n",
    "        }"
   ]
  },
  {
   "cell_type": "code",
   "execution_count": 46,
   "id": "edbc3845-ec23-4e04-9210-f1404253c383",
   "metadata": {},
   "outputs": [],
   "source": [
    "model_type = {\n",
    "    'Linear': torch.nn.Linear,\n",
    "    'ReLU': torch.nn.ReLU,\n",
    "    'SoftMax': torch.nn.Softmax\n",
    "}\n",
    "\n",
    "optimizer = {\n",
    "    'SGD': torch.optim.SGD\n",
    "}\n",
    "\n",
    "class LinearFlow(metaflow.FlowSpec):\n",
    "    \"\"\"\n",
    "    This is the base class for building a Flow. These are intended to be standardized.\n",
    "    This ensures reproducibility, tracking, and should be relatively easy to use.\n",
    "    \"\"\"\n",
    "\n",
    "    config = metaflow.Parameter(\n",
    "        'config',\n",
    "        help = \"TOML file with all configurable parameters\",\n",
    "        default = None\n",
    "    )\n",
    "    @metaflow.step\n",
    "    def start(self):\n",
    "        \"\"\"\n",
    "        This is the start of the metaflow run. Start by\n",
    "        loading in the data and storing various attributes.\n",
    "        \"\"\"\n",
    "        if self.config is None:\n",
    "            raise ValueError(\"You need to specify a configuration file\")\n",
    "        \n",
    "        self.train_data = pd.read_csv(config_file['data']['train_path'])\n",
    "        self.tr_data = pd.reac_csv(config_file['data']['test_path'])\n",
    "        self.next(self.dataloaders)\n",
    "\n",
    "    @metaflow.step\n",
    "    def dataloaders(\n",
    "        self\n",
    "    ):\n",
    "        \"\"\"\n",
    "        Instantiate the dataloaders.\n",
    "        \"\"\"\n",
    "        self.batch_size = self.config_file['dataloaders']['batch_size']\n",
    "        self.train_dataset = MNIST_dataset(\n",
    "            self.train_data\n",
    "        )\n",
    "        self.test_dataset = MNIST_dataset(\n",
    "            self.test_data\n",
    "        )\n",
    "        self.train_dataloader = torch.utils.data.DataLoader(\n",
    "            self.train_dataset,\n",
    "            batch_size = self.batch_size,\n",
    "            shuffle = True\n",
    "        )\n",
    "        self.test_dataloader = torch.utils.data.DataLoader(\n",
    "            self.test_dataset,\n",
    "            batch_size = self.batch_size,\n",
    "            shuffle = False\n",
    "        )\n",
    "        \n",
    "        for batch in self.train_dataloader:\n",
    "            batch\n",
    "        for batch in self.test_dataloader:\n",
    "            batch\n",
    "        \n",
    "        self.next(self.train)\n",
    "\n",
    "    @metaflow.step\n",
    "    def train(\n",
    "        self\n",
    "    ):\n",
    "        \"\"\"\n",
    "        Construct and train the model.\n",
    "        \"\"\"\n",
    "        layers = []\n",
    "        for key in self.config_path['model']['layers']:\n",
    "            layer_type = model_type[self.config_path['model']['layers'][key]['type']]\n",
    "            layer_args = {\n",
    "                key : value for (key, value) in self.config_path['model']['layers'][key].items() if key != 'type'\n",
    "            }\n",
    "            layers.append(\n",
    "                layer_type(**layer_args)\n",
    "            )\n",
    "        self.model = torch.nn.Sequential(*layers)\n",
    "        self.optim = optimizer[self.config_path['model']['optimizer']['type']]\n",
    "        optim_args = {\n",
    "                key : value for (key, value) in self.config_path['model']['optimizer'].items() if key != 'type'\n",
    "            }\n",
    "        self.optim = self.optim(**optim_args)\n",
    "\n",
    "        for epoch in range(100):\n",
    "            \n",
    "            for batch in self.train_dataloader:\n",
    "                \n",
    "                self.optim.zero_grad()\n",
    "                pred = self.model(batch['image'])\n",
    "                loss = torch.mean((pred - batch['label'])**2)\n",
    "                loss.backward()\n",
    "                self.optim.step()\n",
    "        \n",
    "                        \n",
    "                \n",
    "            \n",
    "        \n",
    "            "
   ]
  },
  {
   "cell_type": "code",
   "execution_count": 48,
   "id": "8118ca1e-e397-4716-8d54-8d38c60e009a",
   "metadata": {},
   "outputs": [],
   "source": [
    "from metaflow import Run\n",
    "\n",
    "from metaflow import Metaflow\n",
    "mf = Metaflow()"
   ]
  },
  {
   "cell_type": "code",
   "execution_count": 49,
   "id": "a5298cd6-1876-4b57-952b-4062a12deba0",
   "metadata": {},
   "outputs": [
    {
     "name": "stdout",
     "output_type": "stream",
     "text": [
      "[Flow('LinearFlow')]\n"
     ]
    }
   ],
   "source": [
    "from metaflow import Metaflow\n",
    "print(Metaflow().flows)"
   ]
  },
  {
   "cell_type": "code",
   "execution_count": 51,
   "id": "4258fdfb-d249-489f-94e8-f79099cb27ab",
   "metadata": {},
   "outputs": [],
   "source": [
    "from metaflow import Flow\n",
    "\n",
    "flow = Flow('LinearFlow')\n",
    "runs = list(flow)"
   ]
  },
  {
   "cell_type": "code",
   "execution_count": 52,
   "id": "58fbd537-ea38-4ae4-b33b-dde1edd02a21",
   "metadata": {},
   "outputs": [
    {
     "data": {
      "text/plain": [
       "[Run('LinearFlow/1731903375143772'),\n",
       " Run('LinearFlow/1731903357485715'),\n",
       " Run('LinearFlow/1731903283191162'),\n",
       " Run('LinearFlow/1731902677079075'),\n",
       " Run('LinearFlow/1731902538614205'),\n",
       " Run('LinearFlow/1731902503596645'),\n",
       " Run('LinearFlow/1731902468826979'),\n",
       " Run('LinearFlow/1731902409975172'),\n",
       " Run('LinearFlow/1731902397316514'),\n",
       " Run('LinearFlow/1731902374340618'),\n",
       " Run('LinearFlow/1731902339385937'),\n",
       " Run('LinearFlow/1731902266116068'),\n",
       " Run('LinearFlow/1731902214687395'),\n",
       " Run('LinearFlow/1731902180196349')]"
      ]
     },
     "execution_count": 52,
     "metadata": {},
     "output_type": "execute_result"
    }
   ],
   "source": [
    "runs"
   ]
  },
  {
   "cell_type": "code",
   "execution_count": null,
   "id": "2282af6c-1730-4129-a86f-741f046db56c",
   "metadata": {},
   "outputs": [],
   "source": []
  }
 ],
 "metadata": {
  "kernelspec": {
   "display_name": "Python 3 (ipykernel)",
   "language": "python",
   "name": "python3"
  },
  "language_info": {
   "codemirror_mode": {
    "name": "ipython",
    "version": 3
   },
   "file_extension": ".py",
   "mimetype": "text/x-python",
   "name": "python",
   "nbconvert_exporter": "python",
   "pygments_lexer": "ipython3",
   "version": "3.12.7"
  }
 },
 "nbformat": 4,
 "nbformat_minor": 5
}
